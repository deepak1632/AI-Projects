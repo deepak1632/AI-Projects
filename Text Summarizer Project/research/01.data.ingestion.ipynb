{
 "cells": [
  {
   "cell_type": "code",
   "execution_count": 1,
   "id": "1036c533",
   "metadata": {},
   "outputs": [],
   "source": [
    "import os"
   ]
  },
  {
   "cell_type": "code",
   "execution_count": 2,
   "id": "16a6fad1",
   "metadata": {},
   "outputs": [
    {
     "data": {
      "text/plain": [
       "'d:\\\\Deepak_Work\\\\AI-Projects\\\\AI-Projects\\\\Text Summarizer Project\\\\research'"
      ]
     },
     "execution_count": 2,
     "metadata": {},
     "output_type": "execute_result"
    }
   ],
   "source": [
    "%pwd"
   ]
  },
  {
   "cell_type": "code",
   "execution_count": 3,
   "id": "40891514",
   "metadata": {},
   "outputs": [],
   "source": [
    "os.chdir(\"../\")"
   ]
  },
  {
   "cell_type": "code",
   "execution_count": 4,
   "id": "69c35215",
   "metadata": {},
   "outputs": [
    {
     "data": {
      "text/plain": [
       "'d:\\\\Deepak_Work\\\\AI-Projects\\\\AI-Projects\\\\Text Summarizer Project'"
      ]
     },
     "execution_count": 4,
     "metadata": {},
     "output_type": "execute_result"
    }
   ],
   "source": [
    "%pwd"
   ]
  },
  {
   "cell_type": "code",
   "execution_count": 5,
   "id": "8323f6c2",
   "metadata": {},
   "outputs": [],
   "source": [
    "from dataclasses import dataclass\n",
    "from pathlib import Path\n",
    "\n",
    "@dataclass(frozen=True)\n",
    "class DataIngestionConfig:\n",
    "    root_dir: Path\n",
    "    source_URL: str\n",
    "    local_data_file: Path\n",
    "    unzip_dir: Path"
   ]
  },
  {
   "cell_type": "code",
   "execution_count": 6,
   "id": "64a4c1dd",
   "metadata": {},
   "outputs": [],
   "source": [
    "from TextSummarizer.constants import *\n",
    "from TextSummarizer.utils.common import read_yaml, create_directories"
   ]
  },
  {
   "cell_type": "code",
   "execution_count": 7,
   "id": "399a8b52",
   "metadata": {},
   "outputs": [
    {
     "name": "stdout",
     "output_type": "stream",
     "text": [
      "config\\config.yaml\n",
      "params.yaml\n"
     ]
    }
   ],
   "source": [
    "import importlib\n",
    "import TextSummarizer.components as components\n",
    "importlib.reload(components)\n",
    "\n",
    "from TextSummarizer.constants import CONFIG_FILE_PATH, PARAMS_FILE_PATH\n",
    "print(CONFIG_FILE_PATH)\n",
    "print(PARAMS_FILE_PATH)"
   ]
  },
  {
   "cell_type": "code",
   "execution_count": 8,
   "id": "bd47b3e8",
   "metadata": {},
   "outputs": [
    {
     "name": "stdout",
     "output_type": "stream",
     "text": [
      "D:\\Deepak_Work\\AI-Projects\\AI-Projects\\Text Summarizer Project\\src\\TextSummarizer\\components\\__init__.py\n"
     ]
    }
   ],
   "source": [
    "import TextSummarizer.components\n",
    "print(TextSummarizer.components.__file__)\n"
   ]
  },
  {
   "cell_type": "code",
   "execution_count": 9,
   "id": "9d7f37b6",
   "metadata": {},
   "outputs": [
    {
     "name": "stdout",
     "output_type": "stream",
     "text": [
      "\n"
     ]
    }
   ],
   "source": [
    "with open(TextSummarizer.components.__file__, 'r') as f:\n",
    "    print(f.read())\n"
   ]
  },
  {
   "cell_type": "code",
   "execution_count": 10,
   "id": "5a4284fe",
   "metadata": {},
   "outputs": [],
   "source": [
    "CONFIG_FILE_PATH = Path(\"config/config.yaml\")\n"
   ]
  },
  {
   "cell_type": "code",
   "execution_count": 11,
   "id": "e936855b",
   "metadata": {},
   "outputs": [],
   "source": [
    "from TextSummarizer.constants import CONFIG_FILE_PATH\n",
    "from TextSummarizer.constants import PARAMS_FILE_PATH\n",
    "\n",
    "class ConfigurationManager:\n",
    "    def __init__(\n",
    "        self,\n",
    "        config_filepath = CONFIG_FILE_PATH,\n",
    "        params_filepath = PARAMS_FILE_PATH): \n",
    "\n",
    "        self.config = read_yaml(config_filepath)\n",
    "        self.params = read_yaml(params_filepath)\n",
    " \n",
    "        create_directories([self.config.artifacts_root])\n",
    "\n",
    "    def get_data_ingestion_config(self) -> DataIngestionConfig:\n",
    "        config = self.config[\"data_ingestion\"]\n",
    "\n",
    "        create_directories([config[\"root_dir\"]])\n",
    "\n",
    "        data_ingestion_config = DataIngestionConfig(\n",
    "            root_dir=Path(config[\"root_dir\"]),\n",
    "            source_URL=config[\"source_URL\"],\n",
    "            local_data_file=Path(config[\"local_data_file\"]),\n",
    "            unzip_dir=Path(config[\"unzip_dir\"]),\n",
    "        )\n",
    "\n",
    "        return data_ingestion_config"
   ]
  },
  {
   "cell_type": "code",
   "execution_count": 12,
   "id": "6afc6b11",
   "metadata": {},
   "outputs": [],
   "source": [
    "import os\n",
    "import urllib.request as request\n",
    "import zipfile\n",
    "import TextSummarizer.logging as logger\n",
    "from TextSummarizer.utils.common import get_size"
   ]
  },
  {
   "cell_type": "code",
   "execution_count": 13,
   "id": "ea095e97",
   "metadata": {},
   "outputs": [],
   "source": [
    "# rerunning our ingestion, delete the old bad file so it can redownload properly\n",
    "import os\n",
    "bad_zip = \"artifacts/data_ingestion/data.zip\"\n",
    "if os.path.exists(bad_zip):\n",
    "    os.remove(bad_zip)\n",
    "    print(\"🗑️ Deleted old invalid ZIP file.\")"
   ]
  },
  {
   "cell_type": "code",
   "execution_count": 14,
   "id": "fb388a10",
   "metadata": {},
   "outputs": [],
   "source": [
    "class DataIngestion:\n",
    "    def __init__(self, config: DataIngestionConfig):\n",
    "        self.config = config\n",
    "\n",
    "    def download_data(self) -> Path:\n",
    "        logger.info(\"Starting data download...\")\n",
    "        if not os.path.exists(self.config.local_data_file):\n",
    "            filename, headers = request.urlretrieve(\n",
    "                url=self.config.source_URL,\n",
    "                filename=self.config.local_data_file,\n",
    "            )\n",
    "            logger.info(\n",
    "                f\"Data downloaded successfully! and is saved at {self.config.local_data_file} \"\n",
    "                f\"and the file size is {get_size(Path(filename))}\"\n",
    "            )\n",
    "        else:\n",
    "            logger.info(f\"File already exists of size {get_size(self.config.local_data_file)}\")\n",
    "\n",
    "        return self.config.local_data_file\n",
    "\n",
    "    def extract_zip_file(self, zip_file_path: Path, unzip_dir: Path) -> None:\n",
    "        logger.info(\"Starting data extraction...\")\n",
    "        with zipfile.ZipFile(zip_file_path, 'r') as zip_ref:\n",
    "            zip_ref.extractall(unzip_dir)\n",
    "        logger.info(f\"Data extracted successfully at {unzip_dir}\")"
   ]
  },
  {
   "cell_type": "code",
   "execution_count": 15,
   "id": "a69b1661",
   "metadata": {},
   "outputs": [
    {
     "name": "stdout",
     "output_type": "stream",
     "text": [
      "[2025-11-01 17:18:24,977: INFO: common: yaml file: config\\config.yaml loaded sucessfully]\n",
      "[2025-11-01 17:18:24,980: INFO: common: yaml file: params.yaml loaded sucessfully]\n",
      "[2025-11-01 17:18:24,980: INFO: common: created directory at: artifacts]\n",
      "[2025-11-01 17:18:24,984: INFO: common: created directory at: artifacts/data_ingestion]\n",
      "[2025-11-01 17:18:24,984: INFO: 3790782038: Starting data download...]\n",
      "[2025-11-01 17:18:28,623: INFO: 3790782038: Data downloaded successfully! and is saved at artifacts\\data_ingestion\\data.zip and the file size is ~ 8073 KB]\n",
      "[2025-11-01 17:18:28,623: INFO: 3790782038: Starting data extraction...]\n",
      "[2025-11-01 17:18:28,849: INFO: 3790782038: Data extracted successfully at artifacts\\data_ingestion]\n"
     ]
    }
   ],
   "source": [
    "from TextSummarizer.logging import logger\n",
    "\n",
    "try:\n",
    "    config_manager = ConfigurationManager()\n",
    "    data_ingestion_config = config_manager.get_data_ingestion_config()\n",
    "    data_ingestion = DataIngestion(config=data_ingestion_config)\n",
    "    zip_file_path = data_ingestion.download_data()\n",
    "\n",
    "    data_ingestion.extract_zip_file(\n",
    "        zip_file_path=zip_file_path,\n",
    "        unzip_dir=data_ingestion_config.unzip_dir,\n",
    "    )\n",
    "\n",
    "except Exception as e:\n",
    "    logger.exception(e)  # ✅ works fine now\n",
    "    raise e\n"
   ]
  },
  {
   "cell_type": "code",
   "execution_count": null,
   "id": "9d39f6e3",
   "metadata": {},
   "outputs": [],
   "source": []
  }
 ],
 "metadata": {
  "kernelspec": {
   "display_name": "textS",
   "language": "python",
   "name": "python3"
  },
  "language_info": {
   "codemirror_mode": {
    "name": "ipython",
    "version": 3
   },
   "file_extension": ".py",
   "mimetype": "text/x-python",
   "name": "python",
   "nbconvert_exporter": "python",
   "pygments_lexer": "ipython3",
   "version": "3.11.13"
  }
 },
 "nbformat": 4,
 "nbformat_minor": 5
}
